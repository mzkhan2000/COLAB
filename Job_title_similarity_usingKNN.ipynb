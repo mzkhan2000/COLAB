{
  "nbformat": 4,
  "nbformat_minor": 0,
  "metadata": {
    "colab": {
      "name": "Job_title_similarity_usingKNN.ipynb",
      "provenance": [],
      "collapsed_sections": [],
      "authorship_tag": "ABX9TyM59KTeDLp0CY1ruL2Todoa",
      "include_colab_link": true
    },
    "kernelspec": {
      "name": "python3",
      "display_name": "Python 3"
    },
    "language_info": {
      "name": "python"
    }
  },
  "cells": [
    {
      "cell_type": "markdown",
      "metadata": {
        "id": "view-in-github",
        "colab_type": "text"
      },
      "source": [
        "<a href=\"https://colab.research.google.com/github/mzkhan2000/COLAB/blob/main/Job_title_similarity_usingKNN.ipynb\" target=\"_parent\"><img src=\"https://colab.research.google.com/assets/colab-badge.svg\" alt=\"Open In Colab\"/></a>"
      ]
    },
    {
      "cell_type": "code",
      "execution_count": 8,
      "metadata": {
        "colab": {
          "base_uri": "https://localhost:8080/"
        },
        "id": "ZN5Yy8RVmhb5",
        "outputId": "f5c89380-90ec-4450-dfe0-8d487d1c3e43"
      },
      "outputs": [
        {
          "output_type": "stream",
          "name": "stdout",
          "text": [
            "Drive already mounted at /content/drive; to attempt to forcibly remount, call drive.mount(\"/content/drive\", force_remount=True).\n"
          ]
        }
      ],
      "source": [
        "from google.colab import drive\n",
        "drive.mount('/content/drive')"
      ]
    },
    {
      "cell_type": "code",
      "source": [
        "# check out if google dride mount suceessful \n",
        "!ls \"/content/drive/My Drive/Data Scientist Study Case \""
      ],
      "metadata": {
        "colab": {
          "base_uri": "https://localhost:8080/"
        },
        "id": "jmYaKK4LmvaD",
        "outputId": "eb95286c-29c5-4f22-a9ce-94419bdcba12"
      },
      "execution_count": 9,
      "outputs": [
        {
          "output_type": "stream",
          "name": "stdout",
          "text": [
            "ads-50k.json\n"
          ]
        }
      ]
    },
    {
      "cell_type": "code",
      "source": [
        "# dataset file path in the google dride\n",
        "filename = '/content/drive/My Drive/Data Scientist Study Case /ads-50k.json'"
      ],
      "metadata": {
        "id": "No1Vrng2nHtr"
      },
      "execution_count": 10,
      "outputs": []
    },
    {
      "cell_type": "code",
      "source": [
        "import pandas as pd\n",
        "import numpy as np\n",
        "from sklearn import linear_model\n",
        "from sklearn import metrics\n",
        "from sklearn.feature_extraction.text import CountVectorizer,TfidfVectorizer\n",
        "from sklearn.neighbors import NearestNeighbors"
      ],
      "metadata": {
        "id": "PhBZb_uwLFqV"
      },
      "execution_count": 57,
      "outputs": []
    },
    {
      "cell_type": "code",
      "source": [
        "ads_df = pd.read_json(filename, lines=True)"
      ],
      "metadata": {
        "id": "3eTBECnynQXr"
      },
      "execution_count": 58,
      "outputs": []
    },
    {
      "cell_type": "code",
      "source": [
        "ads_df.head()"
      ],
      "metadata": {
        "colab": {
          "base_uri": "https://localhost:8080/",
          "height": 285
        },
        "id": "vBLgxztvnZo-",
        "outputId": "f0ced4c1-4bee-4861-9eda-3381ab64cb0c"
      },
      "execution_count": 12,
      "outputs": [
        {
          "output_type": "execute_result",
          "data": {
            "text/plain": [
              "         id                                              title  \\\n",
              "0  38915469                             Recruitment Consultant   \n",
              "1  38934839                     Computers Salesperson - Coburg   \n",
              "2  38946054                              Senior Developer | SA   \n",
              "3  38833950  Senior Commercial Property Manager | Leading T...   \n",
              "4  38856271               Technology Manager | Travel Industry   \n",
              "\n",
              "                                            abstract  \\\n",
              "0  We are looking for someone to focus purely on ...   \n",
              "1  Passionate about exceptional customer service?...   \n",
              "2  Readifarians are known for discovering the lat...   \n",
              "3  ~ Rare opportunity for a Senior PM to step int...   \n",
              "4  Rare opportunity for an experienced Technology...   \n",
              "\n",
              "                                             content  \\\n",
              "0  <HTML><p>Are you looking to join a thriving bu...   \n",
              "1  <HTML><p>&middot;&nbsp;&nbsp;Casual hours as r...   \n",
              "2  <HTML><p>Readify helps organizations innovate ...   \n",
              "3  <HTML><p><strong>WayPoint Recruitment&nbsp;</s...   \n",
              "4  <HTML>This is a key role within a market leadi...   \n",
              "\n",
              "                                            metadata  \n",
              "0  {'standout': {'bullet1': 'Join a Sector that i...  \n",
              "1  {'additionalSalaryText': 'Attractive Commissio...  \n",
              "2  {'standout': {'bullet1': 'Design, develop, tes...  \n",
              "3  {'additionalSalaryText': '$140k + Car Park - C...  \n",
              "4  {'standout': {'bullet1': 'Lead overarching str...  "
            ],
            "text/html": [
              "\n",
              "  <div id=\"df-44f1060e-311a-42cd-8f59-03ea1025f324\">\n",
              "    <div class=\"colab-df-container\">\n",
              "      <div>\n",
              "<style scoped>\n",
              "    .dataframe tbody tr th:only-of-type {\n",
              "        vertical-align: middle;\n",
              "    }\n",
              "\n",
              "    .dataframe tbody tr th {\n",
              "        vertical-align: top;\n",
              "    }\n",
              "\n",
              "    .dataframe thead th {\n",
              "        text-align: right;\n",
              "    }\n",
              "</style>\n",
              "<table border=\"1\" class=\"dataframe\">\n",
              "  <thead>\n",
              "    <tr style=\"text-align: right;\">\n",
              "      <th></th>\n",
              "      <th>id</th>\n",
              "      <th>title</th>\n",
              "      <th>abstract</th>\n",
              "      <th>content</th>\n",
              "      <th>metadata</th>\n",
              "    </tr>\n",
              "  </thead>\n",
              "  <tbody>\n",
              "    <tr>\n",
              "      <th>0</th>\n",
              "      <td>38915469</td>\n",
              "      <td>Recruitment Consultant</td>\n",
              "      <td>We are looking for someone to focus purely on ...</td>\n",
              "      <td>&lt;HTML&gt;&lt;p&gt;Are you looking to join a thriving bu...</td>\n",
              "      <td>{'standout': {'bullet1': 'Join a Sector that i...</td>\n",
              "    </tr>\n",
              "    <tr>\n",
              "      <th>1</th>\n",
              "      <td>38934839</td>\n",
              "      <td>Computers Salesperson - Coburg</td>\n",
              "      <td>Passionate about exceptional customer service?...</td>\n",
              "      <td>&lt;HTML&gt;&lt;p&gt;&amp;middot;&amp;nbsp;&amp;nbsp;Casual hours as r...</td>\n",
              "      <td>{'additionalSalaryText': 'Attractive Commissio...</td>\n",
              "    </tr>\n",
              "    <tr>\n",
              "      <th>2</th>\n",
              "      <td>38946054</td>\n",
              "      <td>Senior Developer | SA</td>\n",
              "      <td>Readifarians are known for discovering the lat...</td>\n",
              "      <td>&lt;HTML&gt;&lt;p&gt;Readify helps organizations innovate ...</td>\n",
              "      <td>{'standout': {'bullet1': 'Design, develop, tes...</td>\n",
              "    </tr>\n",
              "    <tr>\n",
              "      <th>3</th>\n",
              "      <td>38833950</td>\n",
              "      <td>Senior Commercial Property Manager | Leading T...</td>\n",
              "      <td>~ Rare opportunity for a Senior PM to step int...</td>\n",
              "      <td>&lt;HTML&gt;&lt;p&gt;&lt;strong&gt;WayPoint Recruitment&amp;nbsp;&lt;/s...</td>\n",
              "      <td>{'additionalSalaryText': '$140k + Car Park - C...</td>\n",
              "    </tr>\n",
              "    <tr>\n",
              "      <th>4</th>\n",
              "      <td>38856271</td>\n",
              "      <td>Technology Manager | Travel Industry</td>\n",
              "      <td>Rare opportunity for an experienced Technology...</td>\n",
              "      <td>&lt;HTML&gt;This is a key role within a market leadi...</td>\n",
              "      <td>{'standout': {'bullet1': 'Lead overarching str...</td>\n",
              "    </tr>\n",
              "  </tbody>\n",
              "</table>\n",
              "</div>\n",
              "      <button class=\"colab-df-convert\" onclick=\"convertToInteractive('df-44f1060e-311a-42cd-8f59-03ea1025f324')\"\n",
              "              title=\"Convert this dataframe to an interactive table.\"\n",
              "              style=\"display:none;\">\n",
              "        \n",
              "  <svg xmlns=\"http://www.w3.org/2000/svg\" height=\"24px\"viewBox=\"0 0 24 24\"\n",
              "       width=\"24px\">\n",
              "    <path d=\"M0 0h24v24H0V0z\" fill=\"none\"/>\n",
              "    <path d=\"M18.56 5.44l.94 2.06.94-2.06 2.06-.94-2.06-.94-.94-2.06-.94 2.06-2.06.94zm-11 1L8.5 8.5l.94-2.06 2.06-.94-2.06-.94L8.5 2.5l-.94 2.06-2.06.94zm10 10l.94 2.06.94-2.06 2.06-.94-2.06-.94-.94-2.06-.94 2.06-2.06.94z\"/><path d=\"M17.41 7.96l-1.37-1.37c-.4-.4-.92-.59-1.43-.59-.52 0-1.04.2-1.43.59L10.3 9.45l-7.72 7.72c-.78.78-.78 2.05 0 2.83L4 21.41c.39.39.9.59 1.41.59.51 0 1.02-.2 1.41-.59l7.78-7.78 2.81-2.81c.8-.78.8-2.07 0-2.86zM5.41 20L4 18.59l7.72-7.72 1.47 1.35L5.41 20z\"/>\n",
              "  </svg>\n",
              "      </button>\n",
              "      \n",
              "  <style>\n",
              "    .colab-df-container {\n",
              "      display:flex;\n",
              "      flex-wrap:wrap;\n",
              "      gap: 12px;\n",
              "    }\n",
              "\n",
              "    .colab-df-convert {\n",
              "      background-color: #E8F0FE;\n",
              "      border: none;\n",
              "      border-radius: 50%;\n",
              "      cursor: pointer;\n",
              "      display: none;\n",
              "      fill: #1967D2;\n",
              "      height: 32px;\n",
              "      padding: 0 0 0 0;\n",
              "      width: 32px;\n",
              "    }\n",
              "\n",
              "    .colab-df-convert:hover {\n",
              "      background-color: #E2EBFA;\n",
              "      box-shadow: 0px 1px 2px rgba(60, 64, 67, 0.3), 0px 1px 3px 1px rgba(60, 64, 67, 0.15);\n",
              "      fill: #174EA6;\n",
              "    }\n",
              "\n",
              "    [theme=dark] .colab-df-convert {\n",
              "      background-color: #3B4455;\n",
              "      fill: #D2E3FC;\n",
              "    }\n",
              "\n",
              "    [theme=dark] .colab-df-convert:hover {\n",
              "      background-color: #434B5C;\n",
              "      box-shadow: 0px 1px 3px 1px rgba(0, 0, 0, 0.15);\n",
              "      filter: drop-shadow(0px 1px 2px rgba(0, 0, 0, 0.3));\n",
              "      fill: #FFFFFF;\n",
              "    }\n",
              "  </style>\n",
              "\n",
              "      <script>\n",
              "        const buttonEl =\n",
              "          document.querySelector('#df-44f1060e-311a-42cd-8f59-03ea1025f324 button.colab-df-convert');\n",
              "        buttonEl.style.display =\n",
              "          google.colab.kernel.accessAllowed ? 'block' : 'none';\n",
              "\n",
              "        async function convertToInteractive(key) {\n",
              "          const element = document.querySelector('#df-44f1060e-311a-42cd-8f59-03ea1025f324');\n",
              "          const dataTable =\n",
              "            await google.colab.kernel.invokeFunction('convertToInteractive',\n",
              "                                                     [key], {});\n",
              "          if (!dataTable) return;\n",
              "\n",
              "          const docLinkHtml = 'Like what you see? Visit the ' +\n",
              "            '<a target=\"_blank\" href=https://colab.research.google.com/notebooks/data_table.ipynb>data table notebook</a>'\n",
              "            + ' to learn more about interactive tables.';\n",
              "          element.innerHTML = '';\n",
              "          dataTable['output_type'] = 'display_data';\n",
              "          await google.colab.output.renderOutput(dataTable, element);\n",
              "          const docLink = document.createElement('div');\n",
              "          docLink.innerHTML = docLinkHtml;\n",
              "          element.appendChild(docLink);\n",
              "        }\n",
              "      </script>\n",
              "    </div>\n",
              "  </div>\n",
              "  "
            ]
          },
          "metadata": {},
          "execution_count": 12
        }
      ]
    },
    {
      "cell_type": "code",
      "source": [
        "ads_df['feature'] = ads_df['title'] + \" \" + ads_df['abstract']+ \" \" + ads_df['content'] "
      ],
      "metadata": {
        "id": "-rp5_a3bojiq"
      },
      "execution_count": 63,
      "outputs": []
    },
    {
      "cell_type": "code",
      "source": [
        "import re\n",
        "import string\n",
        "# define a function for removing unnecessary/special characters and return a lower case plain texts/ Monir\n",
        "def word_drop(text):\n",
        "    text = text.lower()\n",
        "    text = re.sub('\\[.*?\\]', '', text)\n",
        "    text = re.sub(\"\\\\W\", \" \", text)\n",
        "    text = re.sub('https?://\\S+ |www\\.\\S+', '', text)\n",
        "    text = re.sub('<.*?>', '', text)\n",
        "    text = re.sub('[%s]' % re.escape(string.punctuation), '', text)\n",
        "    text = re.sub('\\n', '', text)\n",
        "    text = re.sub('\\w*\\d\\w*', '', text)\n",
        "    return text\n",
        "# ----------------"
      ],
      "metadata": {
        "id": "yCYf-nSOwSrT"
      },
      "execution_count": 64,
      "outputs": []
    },
    {
      "cell_type": "code",
      "source": [
        "ads_df['feature'] = ads_df['feature'].apply(word_drop) "
      ],
      "metadata": {
        "id": "DoLq64AJwku8"
      },
      "execution_count": 65,
      "outputs": []
    },
    {
      "cell_type": "code",
      "source": [
        "#initializing tfidf vectorizer\n",
        "from sklearn.feature_extraction.text import TfidfVectorizer\n",
        "tfidf_vectorizer = TfidfVectorizer()\n",
        "#fitting and transforming the vector\n",
        "tfidf_job = tfidf_vectorizer.fit_transform((ads_df['feature'])) "
      ],
      "metadata": {
        "id": "SRTcMoGS33se"
      },
      "execution_count": 66,
      "outputs": []
    },
    {
      "cell_type": "code",
      "source": [
        "features = tfidf_vectorizer.get_feature_names()\n",
        "#tfidf_vectorizer.get_feature_names(): Array mapping from feature integer indices to feature name\n",
        "#Get the row that belongs to Bill Clinton\n",
        "row = ads_df[ads_df.title=='Senior Developer | SA'].index.tolist()[0]"
      ],
      "metadata": {
        "colab": {
          "base_uri": "https://localhost:8080/"
        },
        "id": "O8lSEKLgHx0J",
        "outputId": "92f2cad9-2b0a-479b-f717-ed32fcf8f111"
      },
      "execution_count": 67,
      "outputs": [
        {
          "output_type": "stream",
          "name": "stderr",
          "text": [
            "/usr/local/lib/python3.7/dist-packages/sklearn/utils/deprecation.py:87: FutureWarning: Function get_feature_names is deprecated; get_feature_names is deprecated in 1.0 and will be removed in 1.2. Please use get_feature_names_out instead.\n",
            "  warnings.warn(msg, category=FutureWarning)\n"
          ]
        }
      ]
    },
    {
      "cell_type": "code",
      "source": [
        "from sklearn.neighbors import NearestNeighbors\n",
        "knn_neighbours = NearestNeighbors(n_neighbors=20)\n",
        "knn_neighbours.fit(tfidf_job)"
      ],
      "metadata": {
        "colab": {
          "base_uri": "https://localhost:8080/"
        },
        "id": "XRgDEcbM4C8E",
        "outputId": "1df41858-0760-487b-d279-cec670535192"
      },
      "execution_count": 68,
      "outputs": [
        {
          "output_type": "execute_result",
          "data": {
            "text/plain": [
              "NearestNeighbors(n_neighbors=20)"
            ]
          },
          "metadata": {},
          "execution_count": 68
        }
      ]
    },
    {
      "cell_type": "code",
      "source": [
        "closest_job = knn_neighbours.kneighbors(tfidf_job.getrow(row), return_distance=True)"
      ],
      "metadata": {
        "id": "IgppBRQP4HnE"
      },
      "execution_count": 69,
      "outputs": []
    },
    {
      "cell_type": "code",
      "source": [
        "print(closest_job[1][0])"
      ],
      "metadata": {
        "colab": {
          "base_uri": "https://localhost:8080/"
        },
        "id": "W1FwOjEFIfnm",
        "outputId": "c1c30163-37c9-48a9-94d1-d84dc7ce0ce8"
      },
      "execution_count": 70,
      "outputs": [
        {
          "output_type": "stream",
          "name": "stdout",
          "text": [
            "[    2 34173 21033 19435 15626 32468  4315 24512 46289 39638   100 16412\n",
            " 13946 41612  2546 16495 35455 19007 20373 36931]\n"
          ]
        }
      ]
    },
    {
      "cell_type": "code",
      "source": [
        "names_index = closest_job[1][0]\n",
        "names = [ads_df.iloc[row]['title'] for row in names_index]\n",
        "distances = closest_job[0][0]"
      ],
      "metadata": {
        "id": "iDP5GHhqJPew"
      },
      "execution_count": 71,
      "outputs": []
    },
    {
      "cell_type": "code",
      "source": [
        "#If it is the case, we delete the name that has distance zero.\n",
        "if distances[0]==0.0: distances,names = np.delete(distances,0),np.delete(names,0) \n",
        "data = pd.DataFrame({'Distances': distances,'Neighbours':names })"
      ],
      "metadata": {
        "id": "6WiCDOFpKAMt"
      },
      "execution_count": 72,
      "outputs": []
    },
    {
      "cell_type": "code",
      "source": [
        "data.head(10)"
      ],
      "metadata": {
        "colab": {
          "base_uri": "https://localhost:8080/",
          "height": 363
        },
        "id": "rO4hnEBqJhhu",
        "outputId": "03794ceb-6351-42c9-a53e-2ffb84b89ac4"
      },
      "execution_count": 73,
      "outputs": [
        {
          "output_type": "execute_result",
          "data": {
            "text/plain": [
              "   Distances                                         Neighbours\n",
              "0   0.000000                              Senior Developer | SA\n",
              "1   0.061081                 Senior Developer / Consultant | WA\n",
              "2   0.984071                            Lead Software Developer\n",
              "3   0.991851                Senior Full Stack Software Engineer\n",
              "4   0.993662  Senior Engineer - .Net Core/Angular 7 - Large ...\n",
              "5   0.995907                          Junior Software Engineer \n",
              "6   0.999717  Leader - Application Development, Support and ...\n",
              "7   1.003136                          Senior Software Engineer \n",
              "8   1.004869                                  Software Engineer\n",
              "9   1.010843                  Senior Technical Business Analyst"
            ],
            "text/html": [
              "\n",
              "  <div id=\"df-06ee8760-6f08-4e7b-ae84-4b9ffeeda65c\">\n",
              "    <div class=\"colab-df-container\">\n",
              "      <div>\n",
              "<style scoped>\n",
              "    .dataframe tbody tr th:only-of-type {\n",
              "        vertical-align: middle;\n",
              "    }\n",
              "\n",
              "    .dataframe tbody tr th {\n",
              "        vertical-align: top;\n",
              "    }\n",
              "\n",
              "    .dataframe thead th {\n",
              "        text-align: right;\n",
              "    }\n",
              "</style>\n",
              "<table border=\"1\" class=\"dataframe\">\n",
              "  <thead>\n",
              "    <tr style=\"text-align: right;\">\n",
              "      <th></th>\n",
              "      <th>Distances</th>\n",
              "      <th>Neighbours</th>\n",
              "    </tr>\n",
              "  </thead>\n",
              "  <tbody>\n",
              "    <tr>\n",
              "      <th>0</th>\n",
              "      <td>0.000000</td>\n",
              "      <td>Senior Developer | SA</td>\n",
              "    </tr>\n",
              "    <tr>\n",
              "      <th>1</th>\n",
              "      <td>0.061081</td>\n",
              "      <td>Senior Developer / Consultant | WA</td>\n",
              "    </tr>\n",
              "    <tr>\n",
              "      <th>2</th>\n",
              "      <td>0.984071</td>\n",
              "      <td>Lead Software Developer</td>\n",
              "    </tr>\n",
              "    <tr>\n",
              "      <th>3</th>\n",
              "      <td>0.991851</td>\n",
              "      <td>Senior Full Stack Software Engineer</td>\n",
              "    </tr>\n",
              "    <tr>\n",
              "      <th>4</th>\n",
              "      <td>0.993662</td>\n",
              "      <td>Senior Engineer - .Net Core/Angular 7 - Large ...</td>\n",
              "    </tr>\n",
              "    <tr>\n",
              "      <th>5</th>\n",
              "      <td>0.995907</td>\n",
              "      <td>Junior Software Engineer</td>\n",
              "    </tr>\n",
              "    <tr>\n",
              "      <th>6</th>\n",
              "      <td>0.999717</td>\n",
              "      <td>Leader - Application Development, Support and ...</td>\n",
              "    </tr>\n",
              "    <tr>\n",
              "      <th>7</th>\n",
              "      <td>1.003136</td>\n",
              "      <td>Senior Software Engineer</td>\n",
              "    </tr>\n",
              "    <tr>\n",
              "      <th>8</th>\n",
              "      <td>1.004869</td>\n",
              "      <td>Software Engineer</td>\n",
              "    </tr>\n",
              "    <tr>\n",
              "      <th>9</th>\n",
              "      <td>1.010843</td>\n",
              "      <td>Senior Technical Business Analyst</td>\n",
              "    </tr>\n",
              "  </tbody>\n",
              "</table>\n",
              "</div>\n",
              "      <button class=\"colab-df-convert\" onclick=\"convertToInteractive('df-06ee8760-6f08-4e7b-ae84-4b9ffeeda65c')\"\n",
              "              title=\"Convert this dataframe to an interactive table.\"\n",
              "              style=\"display:none;\">\n",
              "        \n",
              "  <svg xmlns=\"http://www.w3.org/2000/svg\" height=\"24px\"viewBox=\"0 0 24 24\"\n",
              "       width=\"24px\">\n",
              "    <path d=\"M0 0h24v24H0V0z\" fill=\"none\"/>\n",
              "    <path d=\"M18.56 5.44l.94 2.06.94-2.06 2.06-.94-2.06-.94-.94-2.06-.94 2.06-2.06.94zm-11 1L8.5 8.5l.94-2.06 2.06-.94-2.06-.94L8.5 2.5l-.94 2.06-2.06.94zm10 10l.94 2.06.94-2.06 2.06-.94-2.06-.94-.94-2.06-.94 2.06-2.06.94z\"/><path d=\"M17.41 7.96l-1.37-1.37c-.4-.4-.92-.59-1.43-.59-.52 0-1.04.2-1.43.59L10.3 9.45l-7.72 7.72c-.78.78-.78 2.05 0 2.83L4 21.41c.39.39.9.59 1.41.59.51 0 1.02-.2 1.41-.59l7.78-7.78 2.81-2.81c.8-.78.8-2.07 0-2.86zM5.41 20L4 18.59l7.72-7.72 1.47 1.35L5.41 20z\"/>\n",
              "  </svg>\n",
              "      </button>\n",
              "      \n",
              "  <style>\n",
              "    .colab-df-container {\n",
              "      display:flex;\n",
              "      flex-wrap:wrap;\n",
              "      gap: 12px;\n",
              "    }\n",
              "\n",
              "    .colab-df-convert {\n",
              "      background-color: #E8F0FE;\n",
              "      border: none;\n",
              "      border-radius: 50%;\n",
              "      cursor: pointer;\n",
              "      display: none;\n",
              "      fill: #1967D2;\n",
              "      height: 32px;\n",
              "      padding: 0 0 0 0;\n",
              "      width: 32px;\n",
              "    }\n",
              "\n",
              "    .colab-df-convert:hover {\n",
              "      background-color: #E2EBFA;\n",
              "      box-shadow: 0px 1px 2px rgba(60, 64, 67, 0.3), 0px 1px 3px 1px rgba(60, 64, 67, 0.15);\n",
              "      fill: #174EA6;\n",
              "    }\n",
              "\n",
              "    [theme=dark] .colab-df-convert {\n",
              "      background-color: #3B4455;\n",
              "      fill: #D2E3FC;\n",
              "    }\n",
              "\n",
              "    [theme=dark] .colab-df-convert:hover {\n",
              "      background-color: #434B5C;\n",
              "      box-shadow: 0px 1px 3px 1px rgba(0, 0, 0, 0.15);\n",
              "      filter: drop-shadow(0px 1px 2px rgba(0, 0, 0, 0.3));\n",
              "      fill: #FFFFFF;\n",
              "    }\n",
              "  </style>\n",
              "\n",
              "      <script>\n",
              "        const buttonEl =\n",
              "          document.querySelector('#df-06ee8760-6f08-4e7b-ae84-4b9ffeeda65c button.colab-df-convert');\n",
              "        buttonEl.style.display =\n",
              "          google.colab.kernel.accessAllowed ? 'block' : 'none';\n",
              "\n",
              "        async function convertToInteractive(key) {\n",
              "          const element = document.querySelector('#df-06ee8760-6f08-4e7b-ae84-4b9ffeeda65c');\n",
              "          const dataTable =\n",
              "            await google.colab.kernel.invokeFunction('convertToInteractive',\n",
              "                                                     [key], {});\n",
              "          if (!dataTable) return;\n",
              "\n",
              "          const docLinkHtml = 'Like what you see? Visit the ' +\n",
              "            '<a target=\"_blank\" href=https://colab.research.google.com/notebooks/data_table.ipynb>data table notebook</a>'\n",
              "            + ' to learn more about interactive tables.';\n",
              "          element.innerHTML = '';\n",
              "          dataTable['output_type'] = 'display_data';\n",
              "          await google.colab.output.renderOutput(dataTable, element);\n",
              "          const docLink = document.createElement('div');\n",
              "          docLink.innerHTML = docLinkHtml;\n",
              "          element.appendChild(docLink);\n",
              "        }\n",
              "      </script>\n",
              "    </div>\n",
              "  </div>\n",
              "  "
            ]
          },
          "metadata": {},
          "execution_count": 73
        }
      ]
    }
  ]
}