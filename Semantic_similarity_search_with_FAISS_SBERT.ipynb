{
  "nbformat": 4,
  "nbformat_minor": 0,
  "metadata": {
    "colab": {
      "name": "Semantic similarity search with FAISS_SBERT.ipynb",
      "provenance": [],
      "collapsed_sections": [],
      "authorship_tag": "ABX9TyMeHCwZ3HjMnlWRPcUtNGjn",
      "include_colab_link": true
    },
    "kernelspec": {
      "name": "python3",
      "display_name": "Python 3"
    },
    "language_info": {
      "name": "python"
    }
  },
  "cells": [
    {
      "cell_type": "markdown",
      "metadata": {
        "id": "view-in-github",
        "colab_type": "text"
      },
      "source": [
        "<a href=\"https://colab.research.google.com/github/mzkhan2000/COLAB/blob/main/Semantic_similarity_search_with_FAISS_SBERT.ipynb\" target=\"_parent\"><img src=\"https://colab.research.google.com/assets/colab-badge.svg\" alt=\"Open In Colab\"/></a>"
      ]
    },
    {
      "cell_type": "code",
      "execution_count": 8,
      "metadata": {
        "colab": {
          "base_uri": "https://localhost:8080/"
        },
        "id": "ZN5Yy8RVmhb5",
        "outputId": "f5c89380-90ec-4450-dfe0-8d487d1c3e43"
      },
      "outputs": [
        {
          "output_type": "stream",
          "name": "stdout",
          "text": [
            "Drive already mounted at /content/drive; to attempt to forcibly remount, call drive.mount(\"/content/drive\", force_remount=True).\n"
          ]
        }
      ],
      "source": [
        "from google.colab import drive\n",
        "drive.mount('/content/drive')"
      ]
    },
    {
      "cell_type": "code",
      "source": [
        "# check out if google dride mount suceessful \n",
        "!ls \"/content/drive/My Drive/Data Scientist Study Case \""
      ],
      "metadata": {
        "colab": {
          "base_uri": "https://localhost:8080/"
        },
        "id": "jmYaKK4LmvaD",
        "outputId": "eb95286c-29c5-4f22-a9ce-94419bdcba12"
      },
      "execution_count": 9,
      "outputs": [
        {
          "output_type": "stream",
          "name": "stdout",
          "text": [
            "ads-50k.json\n"
          ]
        }
      ]
    },
    {
      "cell_type": "code",
      "source": [
        "# dataset file path in the google dride\n",
        "filename = '/content/drive/My Drive/Data Scientist Study Case /ads-50k.json'"
      ],
      "metadata": {
        "id": "No1Vrng2nHtr"
      },
      "execution_count": 10,
      "outputs": []
    },
    {
      "cell_type": "code",
      "source": [
        "import pandas as pd\n",
        "import numpy as np\n",
        "from sklearn import linear_model\n",
        "from sklearn import metrics\n",
        "from sklearn.feature_extraction.text import CountVectorizer,TfidfVectorizer\n",
        "from sklearn.neighbors import NearestNeighbors"
      ],
      "metadata": {
        "id": "PhBZb_uwLFqV"
      },
      "execution_count": 57,
      "outputs": []
    },
    {
      "cell_type": "code",
      "source": [
        "ads_df = pd.read_json(filename, lines=True)"
      ],
      "metadata": {
        "id": "3eTBECnynQXr"
      },
      "execution_count": 101,
      "outputs": []
    },
    {
      "cell_type": "code",
      "source": [
        "ads_df_100 = ads_df.head(100)"
      ],
      "metadata": {
        "id": "vBLgxztvnZo-"
      },
      "execution_count": 118,
      "outputs": []
    },
    {
      "cell_type": "code",
      "source": [
        "print(len(ads_df_100))"
      ],
      "metadata": {
        "colab": {
          "base_uri": "https://localhost:8080/"
        },
        "id": "03WS81tKcELE",
        "outputId": "32a0c83a-1d72-4de0-eb9a-5d07d3ec970e"
      },
      "execution_count": 119,
      "outputs": [
        {
          "output_type": "stream",
          "name": "stdout",
          "text": [
            "100\n"
          ]
        }
      ]
    },
    {
      "cell_type": "code",
      "source": [
        "ads_df_100['feature'] = ads_df_100['title'] + ads_df_100['abstract']+ ads_df_100['content'] "
      ],
      "metadata": {
        "colab": {
          "base_uri": "https://localhost:8080/"
        },
        "id": "-rp5_a3bojiq",
        "outputId": "58b4f42f-af6b-4b0a-de14-c01d6007611d"
      },
      "execution_count": 120,
      "outputs": [
        {
          "output_type": "stream",
          "name": "stderr",
          "text": [
            "/usr/local/lib/python3.7/dist-packages/ipykernel_launcher.py:1: SettingWithCopyWarning: \n",
            "A value is trying to be set on a copy of a slice from a DataFrame.\n",
            "Try using .loc[row_indexer,col_indexer] = value instead\n",
            "\n",
            "See the caveats in the documentation: https://pandas.pydata.org/pandas-docs/stable/user_guide/indexing.html#returning-a-view-versus-a-copy\n",
            "  \"\"\"Entry point for launching an IPython kernel.\n"
          ]
        }
      ]
    },
    {
      "cell_type": "code",
      "source": [
        "import re\n",
        "import string\n",
        "# define a function for removing unnecessary/special characters and return a lower case plain texts/ Monir\n",
        "def word_drop(text):\n",
        "    text = text.lower()\n",
        "    text = re.sub('\\[.*?\\]', '', text)\n",
        "    text = re.sub(\"\\\\W\", \" \", text)\n",
        "    text = re.sub('https?://\\S+ |www\\.\\S+', '', text)\n",
        "    text = re.sub('<.*?>', '', text)\n",
        "    text = re.sub('[%s]' % re.escape(string.punctuation), '', text)\n",
        "    text = re.sub('\\n', '', text)\n",
        "    text = re.sub('\\w*\\d\\w*', '', text)\n",
        "    return text\n",
        "# ----------------"
      ],
      "metadata": {
        "id": "yCYf-nSOwSrT"
      },
      "execution_count": 104,
      "outputs": []
    },
    {
      "cell_type": "code",
      "source": [
        "ads_df_100['feature'] = ads_df_100['feature'].apply(word_drop) "
      ],
      "metadata": {
        "colab": {
          "base_uri": "https://localhost:8080/"
        },
        "id": "DoLq64AJwku8",
        "outputId": "0af15f56-38bb-41a5-e88c-bd7af37a5eb1"
      },
      "execution_count": 121,
      "outputs": [
        {
          "output_type": "stream",
          "name": "stderr",
          "text": [
            "/usr/local/lib/python3.7/dist-packages/ipykernel_launcher.py:1: SettingWithCopyWarning: \n",
            "A value is trying to be set on a copy of a slice from a DataFrame.\n",
            "Try using .loc[row_indexer,col_indexer] = value instead\n",
            "\n",
            "See the caveats in the documentation: https://pandas.pydata.org/pandas-docs/stable/user_guide/indexing.html#returning-a-view-versus-a-copy\n",
            "  \"\"\"Entry point for launching an IPython kernel.\n"
          ]
        }
      ]
    },
    {
      "cell_type": "code",
      "source": [
        "!pip install faiss-cpu"
      ],
      "metadata": {
        "colab": {
          "base_uri": "https://localhost:8080/"
        },
        "id": "y-Ob1q7-SS-3",
        "outputId": "614ee2d5-aa18-4e4e-e1a8-248b2dd424c3"
      },
      "execution_count": 75,
      "outputs": [
        {
          "output_type": "stream",
          "name": "stdout",
          "text": [
            "Looking in indexes: https://pypi.org/simple, https://us-python.pkg.dev/colab-wheels/public/simple/\n",
            "Collecting faiss-cpu\n",
            "  Downloading faiss_cpu-1.7.2-cp37-cp37m-manylinux_2_17_x86_64.manylinux2014_x86_64.whl (8.6 MB)\n",
            "\u001b[K     |████████████████████████████████| 8.6 MB 27.4 MB/s \n",
            "\u001b[?25hInstalling collected packages: faiss-cpu\n",
            "Successfully installed faiss-cpu-1.7.2\n"
          ]
        }
      ]
    },
    {
      "cell_type": "code",
      "source": [
        "!pip install -U sentence-transformers"
      ],
      "metadata": {
        "colab": {
          "base_uri": "https://localhost:8080/"
        },
        "id": "ow9xgxApSfAQ",
        "outputId": "3f40f371-3112-479c-8e0c-91d9aae03588"
      },
      "execution_count": 76,
      "outputs": [
        {
          "output_type": "stream",
          "name": "stdout",
          "text": [
            "Looking in indexes: https://pypi.org/simple, https://us-python.pkg.dev/colab-wheels/public/simple/\n",
            "Collecting sentence-transformers\n",
            "  Downloading sentence-transformers-2.2.0.tar.gz (79 kB)\n",
            "\u001b[K     |████████████████████████████████| 79 kB 4.2 MB/s \n",
            "\u001b[?25hCollecting transformers<5.0.0,>=4.6.0\n",
            "  Downloading transformers-4.20.0-py3-none-any.whl (4.4 MB)\n",
            "\u001b[K     |████████████████████████████████| 4.4 MB 51.5 MB/s \n",
            "\u001b[?25hRequirement already satisfied: tqdm in /usr/local/lib/python3.7/dist-packages (from sentence-transformers) (4.64.0)\n",
            "Requirement already satisfied: torch>=1.6.0 in /usr/local/lib/python3.7/dist-packages (from sentence-transformers) (1.11.0+cu113)\n",
            "Requirement already satisfied: torchvision in /usr/local/lib/python3.7/dist-packages (from sentence-transformers) (0.12.0+cu113)\n",
            "Requirement already satisfied: numpy in /usr/local/lib/python3.7/dist-packages (from sentence-transformers) (1.21.6)\n",
            "Requirement already satisfied: scikit-learn in /usr/local/lib/python3.7/dist-packages (from sentence-transformers) (1.0.2)\n",
            "Requirement already satisfied: scipy in /usr/local/lib/python3.7/dist-packages (from sentence-transformers) (1.4.1)\n",
            "Requirement already satisfied: nltk in /usr/local/lib/python3.7/dist-packages (from sentence-transformers) (3.7)\n",
            "Collecting sentencepiece\n",
            "  Downloading sentencepiece-0.1.96-cp37-cp37m-manylinux_2_17_x86_64.manylinux2014_x86_64.whl (1.2 MB)\n",
            "\u001b[K     |████████████████████████████████| 1.2 MB 51.0 MB/s \n",
            "\u001b[?25hCollecting huggingface-hub\n",
            "  Downloading huggingface_hub-0.7.0-py3-none-any.whl (86 kB)\n",
            "\u001b[K     |████████████████████████████████| 86 kB 5.2 MB/s \n",
            "\u001b[?25hRequirement already satisfied: typing-extensions in /usr/local/lib/python3.7/dist-packages (from torch>=1.6.0->sentence-transformers) (4.1.1)\n",
            "Requirement already satisfied: filelock in /usr/local/lib/python3.7/dist-packages (from transformers<5.0.0,>=4.6.0->sentence-transformers) (3.7.1)\n",
            "Collecting pyyaml>=5.1\n",
            "  Downloading PyYAML-6.0-cp37-cp37m-manylinux_2_5_x86_64.manylinux1_x86_64.manylinux_2_12_x86_64.manylinux2010_x86_64.whl (596 kB)\n",
            "\u001b[K     |████████████████████████████████| 596 kB 56.3 MB/s \n",
            "\u001b[?25hRequirement already satisfied: importlib-metadata in /usr/local/lib/python3.7/dist-packages (from transformers<5.0.0,>=4.6.0->sentence-transformers) (4.11.4)\n",
            "Requirement already satisfied: requests in /usr/local/lib/python3.7/dist-packages (from transformers<5.0.0,>=4.6.0->sentence-transformers) (2.23.0)\n",
            "Collecting tokenizers!=0.11.3,<0.13,>=0.11.1\n",
            "  Downloading tokenizers-0.12.1-cp37-cp37m-manylinux_2_12_x86_64.manylinux2010_x86_64.whl (6.6 MB)\n",
            "\u001b[K     |████████████████████████████████| 6.6 MB 41.0 MB/s \n",
            "\u001b[?25hRequirement already satisfied: packaging>=20.0 in /usr/local/lib/python3.7/dist-packages (from transformers<5.0.0,>=4.6.0->sentence-transformers) (21.3)\n",
            "Requirement already satisfied: regex!=2019.12.17 in /usr/local/lib/python3.7/dist-packages (from transformers<5.0.0,>=4.6.0->sentence-transformers) (2022.6.2)\n",
            "Requirement already satisfied: pyparsing!=3.0.5,>=2.0.2 in /usr/local/lib/python3.7/dist-packages (from packaging>=20.0->transformers<5.0.0,>=4.6.0->sentence-transformers) (3.0.9)\n",
            "Requirement already satisfied: zipp>=0.5 in /usr/local/lib/python3.7/dist-packages (from importlib-metadata->transformers<5.0.0,>=4.6.0->sentence-transformers) (3.8.0)\n",
            "Requirement already satisfied: click in /usr/local/lib/python3.7/dist-packages (from nltk->sentence-transformers) (7.1.2)\n",
            "Requirement already satisfied: joblib in /usr/local/lib/python3.7/dist-packages (from nltk->sentence-transformers) (1.1.0)\n",
            "Requirement already satisfied: idna<3,>=2.5 in /usr/local/lib/python3.7/dist-packages (from requests->transformers<5.0.0,>=4.6.0->sentence-transformers) (2.10)\n",
            "Requirement already satisfied: urllib3!=1.25.0,!=1.25.1,<1.26,>=1.21.1 in /usr/local/lib/python3.7/dist-packages (from requests->transformers<5.0.0,>=4.6.0->sentence-transformers) (1.24.3)\n",
            "Requirement already satisfied: chardet<4,>=3.0.2 in /usr/local/lib/python3.7/dist-packages (from requests->transformers<5.0.0,>=4.6.0->sentence-transformers) (3.0.4)\n",
            "Requirement already satisfied: certifi>=2017.4.17 in /usr/local/lib/python3.7/dist-packages (from requests->transformers<5.0.0,>=4.6.0->sentence-transformers) (2022.6.15)\n",
            "Requirement already satisfied: threadpoolctl>=2.0.0 in /usr/local/lib/python3.7/dist-packages (from scikit-learn->sentence-transformers) (3.1.0)\n",
            "Requirement already satisfied: pillow!=8.3.*,>=5.3.0 in /usr/local/lib/python3.7/dist-packages (from torchvision->sentence-transformers) (7.1.2)\n",
            "Building wheels for collected packages: sentence-transformers\n",
            "  Building wheel for sentence-transformers (setup.py) ... \u001b[?25l\u001b[?25hdone\n",
            "  Created wheel for sentence-transformers: filename=sentence_transformers-2.2.0-py3-none-any.whl size=120747 sha256=9e080fe3daecd7e7b00de089fb21b1a778b0d00e320b670ce7822b65f230fc23\n",
            "  Stored in directory: /root/.cache/pip/wheels/83/c0/df/b6873ab7aac3f2465aa9144b6b4c41c4391cfecc027c8b07e7\n",
            "Successfully built sentence-transformers\n",
            "Installing collected packages: pyyaml, tokenizers, huggingface-hub, transformers, sentencepiece, sentence-transformers\n",
            "  Attempting uninstall: pyyaml\n",
            "    Found existing installation: PyYAML 3.13\n",
            "    Uninstalling PyYAML-3.13:\n",
            "      Successfully uninstalled PyYAML-3.13\n",
            "Successfully installed huggingface-hub-0.7.0 pyyaml-6.0 sentence-transformers-2.2.0 sentencepiece-0.1.96 tokenizers-0.12.1 transformers-4.20.0\n"
          ]
        }
      ]
    },
    {
      "cell_type": "code",
      "source": [
        "import numpy as np\n",
        "import torch\n",
        "import os\n",
        "import pandas as pd\n",
        "import faiss\n",
        "import time\n",
        "from sentence_transformers import SentenceTransformer"
      ],
      "metadata": {
        "id": "kQj2El3MSpDX"
      },
      "execution_count": 77,
      "outputs": []
    },
    {
      "cell_type": "code",
      "source": [
        "data = ads_df_100['feature'].to_list()"
      ],
      "metadata": {
        "id": "SLHMKO3pSu7e"
      },
      "execution_count": 122,
      "outputs": []
    },
    {
      "cell_type": "markdown",
      "source": [
        "Loading the pre-trained model and performing the inference"
      ],
      "metadata": {
        "id": "_771zGAHTatn"
      }
    },
    {
      "cell_type": "code",
      "source": [
        "model = SentenceTransformer('distilbert-base-nli-mean-tokens')"
      ],
      "metadata": {
        "id": "bkxMMyK_S7Cw"
      },
      "execution_count": 81,
      "outputs": []
    },
    {
      "cell_type": "code",
      "source": [
        "encoded_data = model.encode(data)"
      ],
      "metadata": {
        "id": "e787o9NOXpyT"
      },
      "execution_count": 123,
      "outputs": []
    },
    {
      "cell_type": "markdown",
      "source": [
        "Define the index and add data to it"
      ],
      "metadata": {
        "id": "REQBVEoPTKtY"
      }
    },
    {
      "cell_type": "code",
      "source": [
        "index = faiss.IndexIDMap(faiss.IndexFlatIP(768))\n",
        "index.add_with_ids(encoded_data, np.array(range(0, len(data))))"
      ],
      "metadata": {
        "id": "S23sAuaRTJzI"
      },
      "execution_count": 124,
      "outputs": []
    },
    {
      "cell_type": "markdown",
      "source": [
        "Performing the semantic similarity search\n",
        "Let us first build a wrapper function for search"
      ],
      "metadata": {
        "id": "B1ua7eNodCy4"
      }
    },
    {
      "cell_type": "code",
      "source": [
        "def search(query):\n",
        "   t=time.time()\n",
        "   query_vector = model.encode([query])\n",
        "   k = 5\n",
        "   top_k = index.search(query_vector, k)\n",
        "   print('totaltime: {}'.format(time.time()-t))\n",
        "   return [data[_id] for _id in top_k[1].tolist()[0]]"
      ],
      "metadata": {
        "id": "629zAGpYdDw2"
      },
      "execution_count": 125,
      "outputs": []
    },
    {
      "cell_type": "code",
      "source": [
        "query=str(input())\n",
        "results=search(query)\n",
        "print('results :')\n",
        "for result in results:\n",
        "   print('\\t',result)"
      ],
      "metadata": {
        "colab": {
          "base_uri": "https://localhost:8080/"
        },
        "id": "PUeX7Fs-dW5x",
        "outputId": "742c6fd5-7445-4b4d-bb26-369bce0a61a8"
      },
      "execution_count": 126,
      "outputs": [
        {
          "output_type": "stream",
          "name": "stdout",
          "text": [
            "Consultant\n",
            "totaltime: 0.0492243766784668\n",
            "results :\n",
            "\t senior manager cusp to partnershipmanager   client base succession plan in place portfolio of   and in the future is your option to be a partner  call txt jonte  html  p style  text align center   strong confidentially call or sms jonte on   strong   p  p  nbsp   p    ul    li client base succession plan in place  li    li manage a team of   li    li work a portfolio of   fees  li    li partner prospects a reality  li    li  strong          strong   li    ul    p  nbsp   p   p  strong implement excellence     strong   p    p  strong you  strong   p    p a person at your level would certainly be conversant with most of the activities within this buoyant nbsp industry  nbsp  br   nbsp  br  the appeal for you to consider this entrepreneurial and executive move is based on the long term  all practices have high level of workload at the moment  what is more important now and in the future is the content and depth of client work related  nbsp  br   nbsp   p    p  strong the firm  strong   p    p this proactive nbsp firm offers an astute practitioner a calculated  switch   a  switch  to nbsp size and diversity not normally available at boutique type practices  nbsp  br   br  as a global  they nbsp operate nbsp on high levels  nbsp across most corporate financial activities  therefore as a cusp partner nbsp at one of these firms you will benefit nbsp from unequalled synergies and global resources  nbsp  br   br  your involvement will nbsp include nbsp sizable nbsp client generating fees of   nbsp under you nbsp and in many cases nbsp in support of transactional and special projects work  nbsp  br   br  high end advisory is nbsp also done here  but the nbsp security of the abundance of nbsp long term compliance worrk  makes this a nbsp  smart  long term nbsp executive decision  br   nbsp  br  circulate nbsp and absorb from great business minds inherent in this practice  nbsp  nbsp   p   p  nbsp   p    p  em the ideal candidate will have min  experience as an accountant within a public practice in australia  australian   em tertiary nbsp qualifactions nbsp  em and be a ca cpa qualified accountant   em   p    p  nbsp   p    p  strong interested  strong   nbsp call jonte  or send cv directly to jonte accountantjobs com au and i will confidentially contact you to discuss this intermediate accountant nbsp role and the firm   p    p  strong not interested or not now   strong  nbsp i can still help  benefit from a discrete and confidential exploration of options  tailored to your own personal and professional preferences  and then compare   p    p visit www accountantjobs com au for a valuable snapshot of accountant roles our team has to offer  we can also advice on market trends and salary reviews   p    p  nbsp   p    p jonte o neil   business services nbsp accountant specialist  p    p       p    p m  nbsp   p    p jonte accountantjobs com au  p    p  br   em whether you re a manager  senior accountant or intermediate accountant looking for a role in business services  tax consulting and advisory or audit  our team at accountantjobs have over  years  experience in the australian accounting nbsp market  we can discreetly assist you to survey options in view of your next step or preference in your career   em   p    p  nbsp   p    html \n",
            "\t senior financial plannersenior financial planner   prospective director html  p we are a boutique firm of chartered accountants   financial advisers located in the heart of subiaco   p   p we are seeking an experienced senior financial planner for an advisory role that has extensive client contact  management and compliance responsibility  br  this position offers diversified duties working closely with high net worth smsf s  individuals  and the associated accounting partners   staff  it is a senior position that will require technical expertise  management skills  the ability to maintain strong client relationships  and business development skills   p   p a strong working knowledge of xplan will be highly desirable   p   p a detailed understanding of the legal and compliance obligations of a financial planning practice is essential as the successful applicant will be integral to maintaining the firm s dealer group responsibilities and asic compliance  br   br  a generous remuneration package commensurate with the successful candidate s experience and qualifications is on offer   p   p this is a great opportunity if you are looking for a senior role with significant responsibility and real potential to obtain an equity position over the short to medium term for the right person   p   html \n",
            "\t machine operator supervisorgreat opportunity for an experienced machine operator to step into a leadership position html  p our client located in tonsley are seeking a machine operator supervisor to work at there technical manufacturing plant  as the successful candidate you will have leadership qualities and be able to run a small team of   the role includes not only supervising the production team but will see you be assist the team with sub assembly or stores assistance where required   p  p  strong duties will include but not limited to   strong   p  p   setting production schedules  p  p   managing a team of   p  p   reading understanding data  p  p   basic fault finding on machines  p  p    p  p  strong to be considered for this position you must meet the following criteria   strong   p  p   have excellent communication skills  p  p   moderate knowledge of excel and be able to read format data   p  p   exposure to lean manufacturing advantageous  p  p   available to work monday friday      p  p   physically fit  as a pre employment physical may be required  p  p   able to pass a drug and alcohol test  p  p    p  p to apply for this position please either contact jess during office hours on   or click the apply now button  p  p    p  p    p  p     p  p    p  p at randstad  we are passionate about providing equal employment opportunities and embracing diversity to the benefit of all  we actively encourage applications from any background   p   html \n",
            "\t client managerexperienced client manager required in a busy financial planning business  html  p boutique advisers is a financial planning business based in subiaco  nbsp  we currently have an opportunity for an experienced client manager nbsp to join our team  nbsp   p   p this nbsp role nbsp is nbsp directly supporting one of nbsp our senior financial advisers  relieving them of as many client related administrative tasks as possible to ensure that they can focus on building client relationships and seeking new business opportunities  nbsp  the client base for this nbsp adviser nbsp is nbsp a nbsp mixture of pre  amp  post retirees  and a large number of self managed super fund clients  nbsp  previous experience in these fields will be highly regarded   p   p to be successful in this role you must be a professional  dynamic and client service focused individual  who loves working with people  nbsp  you must be able to work efficiently and effectively under minimum supervision and be highly organised  nbsp  you will continuously deliver exceptional client service experiences for our clients in a professional and friendly manner  nbsp  you must also be able to work in a supportive team environment where all client managers work together to ensure the brand is maintained at a consistent level   p   p  strong key responsibilities  strong   p   ul   li relationship management of new and existing clients  li   li arranging client appointments  li   li preparing documentation for clients based on advice documents and reviews  li   li implementing recommendations and processing   following up paperwork  li   li processing transaction requests via platforms  li   li ensure all client records are up to date and accurate in the database  li   li follow up outstanding information with platforms and product providers  li   li provide support to reception taking calls and attending to clients  li   ul   p  strong the ideal candidate will have the following minimum requirements to be considered for the role   strong   p   ul   li minimum  months experience within a similar financial planning support role essential  li   li high level attention to detail  li   li strong written and verbal communication skills  li   li experience with microsoft office programs  li   li experience using xplan highly regarded  li   li strong written and verbal communication skills  li   li enthusiastic  driven and a friendly disposition  li   li strong interpersonal skills to be able to deal with a diverse client base  li   li ability to work autonomously when required  li   li strong team player  willing to learn and assist the remainder of the team  li   ul   p  nbsp   p   p    no recruitment agencies     p   p please send through your cover letter and resume to our operations manager  belinda good by selecting  quot apply now quot   p   html \n",
            "\t marketing officerdevelop and contribute to the growth and competitiveness while building the market position and brand of pkf melbourne html  p pkf melbourne is a member firm of pkf international  a global alliance of like minded and legally independent firms bound by shared values of passion  teamwork  clarity  quality and integrity  nbsp  connected locally and globally  we are a proud member firm of pkf international  a top  global accounting and advisory practice  with member firms in  nbsp countries  nbsp  we are set apart by our commitment to developing and maintaining strong  personal relationships with our clients  key decision makers and principals  for our clients this translates to accessible and knowledgeable senior staff and partners  able to provide prompt and reliable advice   p   p the position of marketing officer will involve a variety of marketing and business development activities for both internal and external clients that further develop and contribute to the growth and competitiveness of pkf melbourne  you will build the market position and refine the brand of pkf   p   p duties of the role may include but not limited to   p   ul   li identify new business opportunities and industry market trends to develop  coordinate and execute plans for the promotion of those opportunities   li   li preparing and executing marketing objectives  policies and programs to support business growth and development   li   li coordinating production of advertising materials  including artwork and copywriting  used in tenders  proposals  publications  brochures and social media   li   li coordination of pr content for direct marketing and website use eg blogs and articles   li   li coordinate and oversee all client events to ensure the cross promotion of service lines  and providing analysis on the roi   li   li assist management team with promotions events entertainment activities   li   li utilisation of the crm to assess  identify and develop potential marketing opportunities from within the existing clients and contacts   li   li collate and analyse monthly digital media reports   li   li maintain client data and records  implement and maintain collection protocols and privacy regulations   li   ul   p experience and competencies   p   ul   li degree qualification in marketing   li   li minimum  years  marketing experience   li   li excellent communications skills  both written and verbal   li   li experience with crm and email marketing platforms   li   li prior experience in a professional services firm would be favourable  li   ul   p at pkf nbsp we are looking for more than just technical knowledge  important attributes include   p   ul   li ability to work well under pressure and manage multiple priorities simultaneously   li   li a strong work ethic  taking pride in and ownership of your work   li   li ability to build strong  trust based relationships with clients and internal staff   li   ul   p pkf melbourne represents a professional working environment who are young  energetic and driven  nbsp  we have a reputation for staff satisfaction  strong and longstanding client relationships and a career development regime that will make you want to go to work  nbsp  if you are keen to work in an environment that is fast paced  results driven and bred for success  then this could be the role for you   p   p remuneration will be commensurate with experience and range between        p   p don t miss out on this opportunity   p   html \n"
          ]
        }
      ]
    }
  ]
}