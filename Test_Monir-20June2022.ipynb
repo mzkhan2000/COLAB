{
  "nbformat": 4,
  "nbformat_minor": 0,
  "metadata": {
    "colab": {
      "name": "Test.ipynb",
      "provenance": [],
      "authorship_tag": "ABX9TyPXHZlZAtVMWH9bn7tpwLzm",
      "include_colab_link": true
    },
    "kernelspec": {
      "name": "python3",
      "display_name": "Python 3"
    },
    "language_info": {
      "name": "python"
    }
  },
  "cells": [
    {
      "cell_type": "markdown",
      "metadata": {
        "id": "view-in-github",
        "colab_type": "text"
      },
      "source": [
        "<a href=\"https://colab.research.google.com/github/mzkhan2000/COLAB/blob/main/Test_Monir-20June2022.ipynb\" target=\"_parent\"><img src=\"https://colab.research.google.com/assets/colab-badge.svg\" alt=\"Open In Colab\"/></a>"
      ]
    },
    {
      "cell_type": "code",
      "execution_count": 8,
      "metadata": {
        "colab": {
          "base_uri": "https://localhost:8080/"
        },
        "id": "ZN5Yy8RVmhb5",
        "outputId": "f5c89380-90ec-4450-dfe0-8d487d1c3e43"
      },
      "outputs": [
        {
          "output_type": "stream",
          "name": "stdout",
          "text": [
            "Drive already mounted at /content/drive; to attempt to forcibly remount, call drive.mount(\"/content/drive\", force_remount=True).\n"
          ]
        }
      ],
      "source": [
        "from google.colab import drive\n",
        "drive.mount('/content/drive')"
      ]
    },
    {
      "cell_type": "code",
      "source": [
        "# check out if google dride mount suceessful \n",
        "!ls \"/content/drive/My Drive/Data Scientist Study Case \""
      ],
      "metadata": {
        "colab": {
          "base_uri": "https://localhost:8080/"
        },
        "id": "jmYaKK4LmvaD",
        "outputId": "eb95286c-29c5-4f22-a9ce-94419bdcba12"
      },
      "execution_count": 9,
      "outputs": [
        {
          "output_type": "stream",
          "name": "stdout",
          "text": [
            "ads-50k.json\n"
          ]
        }
      ]
    },
    {
      "cell_type": "code",
      "source": [
        "# dataset file path in the google dride\n",
        "filename = '/content/drive/My Drive/Data Scientist Study Case /ads-50k.json'"
      ],
      "metadata": {
        "id": "No1Vrng2nHtr"
      },
      "execution_count": 10,
      "outputs": []
    },
    {
      "cell_type": "code",
      "source": [
        "import pandas as pd\n",
        "ads_df = pd.read_json(filename, lines=True)"
      ],
      "metadata": {
        "id": "3eTBECnynQXr"
      },
      "execution_count": 11,
      "outputs": []
    },
    {
      "cell_type": "code",
      "source": [
        "ads_df.head()"
      ],
      "metadata": {
        "colab": {
          "base_uri": "https://localhost:8080/",
          "height": 285
        },
        "id": "vBLgxztvnZo-",
        "outputId": "f0ced4c1-4bee-4861-9eda-3381ab64cb0c"
      },
      "execution_count": 12,
      "outputs": [
        {
          "output_type": "execute_result",
          "data": {
            "text/plain": [
              "         id                                              title  \\\n",
              "0  38915469                             Recruitment Consultant   \n",
              "1  38934839                     Computers Salesperson - Coburg   \n",
              "2  38946054                              Senior Developer | SA   \n",
              "3  38833950  Senior Commercial Property Manager | Leading T...   \n",
              "4  38856271               Technology Manager | Travel Industry   \n",
              "\n",
              "                                            abstract  \\\n",
              "0  We are looking for someone to focus purely on ...   \n",
              "1  Passionate about exceptional customer service?...   \n",
              "2  Readifarians are known for discovering the lat...   \n",
              "3  ~ Rare opportunity for a Senior PM to step int...   \n",
              "4  Rare opportunity for an experienced Technology...   \n",
              "\n",
              "                                             content  \\\n",
              "0  <HTML><p>Are you looking to join a thriving bu...   \n",
              "1  <HTML><p>&middot;&nbsp;&nbsp;Casual hours as r...   \n",
              "2  <HTML><p>Readify helps organizations innovate ...   \n",
              "3  <HTML><p><strong>WayPoint Recruitment&nbsp;</s...   \n",
              "4  <HTML>This is a key role within a market leadi...   \n",
              "\n",
              "                                            metadata  \n",
              "0  {'standout': {'bullet1': 'Join a Sector that i...  \n",
              "1  {'additionalSalaryText': 'Attractive Commissio...  \n",
              "2  {'standout': {'bullet1': 'Design, develop, tes...  \n",
              "3  {'additionalSalaryText': '$140k + Car Park - C...  \n",
              "4  {'standout': {'bullet1': 'Lead overarching str...  "
            ],
            "text/html": [
              "\n",
              "  <div id=\"df-44f1060e-311a-42cd-8f59-03ea1025f324\">\n",
              "    <div class=\"colab-df-container\">\n",
              "      <div>\n",
              "<style scoped>\n",
              "    .dataframe tbody tr th:only-of-type {\n",
              "        vertical-align: middle;\n",
              "    }\n",
              "\n",
              "    .dataframe tbody tr th {\n",
              "        vertical-align: top;\n",
              "    }\n",
              "\n",
              "    .dataframe thead th {\n",
              "        text-align: right;\n",
              "    }\n",
              "</style>\n",
              "<table border=\"1\" class=\"dataframe\">\n",
              "  <thead>\n",
              "    <tr style=\"text-align: right;\">\n",
              "      <th></th>\n",
              "      <th>id</th>\n",
              "      <th>title</th>\n",
              "      <th>abstract</th>\n",
              "      <th>content</th>\n",
              "      <th>metadata</th>\n",
              "    </tr>\n",
              "  </thead>\n",
              "  <tbody>\n",
              "    <tr>\n",
              "      <th>0</th>\n",
              "      <td>38915469</td>\n",
              "      <td>Recruitment Consultant</td>\n",
              "      <td>We are looking for someone to focus purely on ...</td>\n",
              "      <td>&lt;HTML&gt;&lt;p&gt;Are you looking to join a thriving bu...</td>\n",
              "      <td>{'standout': {'bullet1': 'Join a Sector that i...</td>\n",
              "    </tr>\n",
              "    <tr>\n",
              "      <th>1</th>\n",
              "      <td>38934839</td>\n",
              "      <td>Computers Salesperson - Coburg</td>\n",
              "      <td>Passionate about exceptional customer service?...</td>\n",
              "      <td>&lt;HTML&gt;&lt;p&gt;&amp;middot;&amp;nbsp;&amp;nbsp;Casual hours as r...</td>\n",
              "      <td>{'additionalSalaryText': 'Attractive Commissio...</td>\n",
              "    </tr>\n",
              "    <tr>\n",
              "      <th>2</th>\n",
              "      <td>38946054</td>\n",
              "      <td>Senior Developer | SA</td>\n",
              "      <td>Readifarians are known for discovering the lat...</td>\n",
              "      <td>&lt;HTML&gt;&lt;p&gt;Readify helps organizations innovate ...</td>\n",
              "      <td>{'standout': {'bullet1': 'Design, develop, tes...</td>\n",
              "    </tr>\n",
              "    <tr>\n",
              "      <th>3</th>\n",
              "      <td>38833950</td>\n",
              "      <td>Senior Commercial Property Manager | Leading T...</td>\n",
              "      <td>~ Rare opportunity for a Senior PM to step int...</td>\n",
              "      <td>&lt;HTML&gt;&lt;p&gt;&lt;strong&gt;WayPoint Recruitment&amp;nbsp;&lt;/s...</td>\n",
              "      <td>{'additionalSalaryText': '$140k + Car Park - C...</td>\n",
              "    </tr>\n",
              "    <tr>\n",
              "      <th>4</th>\n",
              "      <td>38856271</td>\n",
              "      <td>Technology Manager | Travel Industry</td>\n",
              "      <td>Rare opportunity for an experienced Technology...</td>\n",
              "      <td>&lt;HTML&gt;This is a key role within a market leadi...</td>\n",
              "      <td>{'standout': {'bullet1': 'Lead overarching str...</td>\n",
              "    </tr>\n",
              "  </tbody>\n",
              "</table>\n",
              "</div>\n",
              "      <button class=\"colab-df-convert\" onclick=\"convertToInteractive('df-44f1060e-311a-42cd-8f59-03ea1025f324')\"\n",
              "              title=\"Convert this dataframe to an interactive table.\"\n",
              "              style=\"display:none;\">\n",
              "        \n",
              "  <svg xmlns=\"http://www.w3.org/2000/svg\" height=\"24px\"viewBox=\"0 0 24 24\"\n",
              "       width=\"24px\">\n",
              "    <path d=\"M0 0h24v24H0V0z\" fill=\"none\"/>\n",
              "    <path d=\"M18.56 5.44l.94 2.06.94-2.06 2.06-.94-2.06-.94-.94-2.06-.94 2.06-2.06.94zm-11 1L8.5 8.5l.94-2.06 2.06-.94-2.06-.94L8.5 2.5l-.94 2.06-2.06.94zm10 10l.94 2.06.94-2.06 2.06-.94-2.06-.94-.94-2.06-.94 2.06-2.06.94z\"/><path d=\"M17.41 7.96l-1.37-1.37c-.4-.4-.92-.59-1.43-.59-.52 0-1.04.2-1.43.59L10.3 9.45l-7.72 7.72c-.78.78-.78 2.05 0 2.83L4 21.41c.39.39.9.59 1.41.59.51 0 1.02-.2 1.41-.59l7.78-7.78 2.81-2.81c.8-.78.8-2.07 0-2.86zM5.41 20L4 18.59l7.72-7.72 1.47 1.35L5.41 20z\"/>\n",
              "  </svg>\n",
              "      </button>\n",
              "      \n",
              "  <style>\n",
              "    .colab-df-container {\n",
              "      display:flex;\n",
              "      flex-wrap:wrap;\n",
              "      gap: 12px;\n",
              "    }\n",
              "\n",
              "    .colab-df-convert {\n",
              "      background-color: #E8F0FE;\n",
              "      border: none;\n",
              "      border-radius: 50%;\n",
              "      cursor: pointer;\n",
              "      display: none;\n",
              "      fill: #1967D2;\n",
              "      height: 32px;\n",
              "      padding: 0 0 0 0;\n",
              "      width: 32px;\n",
              "    }\n",
              "\n",
              "    .colab-df-convert:hover {\n",
              "      background-color: #E2EBFA;\n",
              "      box-shadow: 0px 1px 2px rgba(60, 64, 67, 0.3), 0px 1px 3px 1px rgba(60, 64, 67, 0.15);\n",
              "      fill: #174EA6;\n",
              "    }\n",
              "\n",
              "    [theme=dark] .colab-df-convert {\n",
              "      background-color: #3B4455;\n",
              "      fill: #D2E3FC;\n",
              "    }\n",
              "\n",
              "    [theme=dark] .colab-df-convert:hover {\n",
              "      background-color: #434B5C;\n",
              "      box-shadow: 0px 1px 3px 1px rgba(0, 0, 0, 0.15);\n",
              "      filter: drop-shadow(0px 1px 2px rgba(0, 0, 0, 0.3));\n",
              "      fill: #FFFFFF;\n",
              "    }\n",
              "  </style>\n",
              "\n",
              "      <script>\n",
              "        const buttonEl =\n",
              "          document.querySelector('#df-44f1060e-311a-42cd-8f59-03ea1025f324 button.colab-df-convert');\n",
              "        buttonEl.style.display =\n",
              "          google.colab.kernel.accessAllowed ? 'block' : 'none';\n",
              "\n",
              "        async function convertToInteractive(key) {\n",
              "          const element = document.querySelector('#df-44f1060e-311a-42cd-8f59-03ea1025f324');\n",
              "          const dataTable =\n",
              "            await google.colab.kernel.invokeFunction('convertToInteractive',\n",
              "                                                     [key], {});\n",
              "          if (!dataTable) return;\n",
              "\n",
              "          const docLinkHtml = 'Like what you see? Visit the ' +\n",
              "            '<a target=\"_blank\" href=https://colab.research.google.com/notebooks/data_table.ipynb>data table notebook</a>'\n",
              "            + ' to learn more about interactive tables.';\n",
              "          element.innerHTML = '';\n",
              "          dataTable['output_type'] = 'display_data';\n",
              "          await google.colab.output.renderOutput(dataTable, element);\n",
              "          const docLink = document.createElement('div');\n",
              "          docLink.innerHTML = docLinkHtml;\n",
              "          element.appendChild(docLink);\n",
              "        }\n",
              "      </script>\n",
              "    </div>\n",
              "  </div>\n",
              "  "
            ]
          },
          "metadata": {},
          "execution_count": 12
        }
      ]
    }
  ]
}